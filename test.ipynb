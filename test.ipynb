{
 "cells": [
  {
   "cell_type": "code",
   "execution_count": 15,
   "metadata": {},
   "outputs": [
    {
     "name": "stdout",
     "output_type": "stream",
     "text": [
      "Error executing search.js: Command '['node', 'search.js', 'Best travel websites']' returned non-zero exit status 1.\n",
      "An error occurred while executing the search\n"
     ]
    }
   ],
   "source": [
    "import subprocess\n",
    "from crewai_tools import BaseTool\n",
    "\n",
    "class SearchUrlTool(BaseTool):\n",
    "    name: str = \"SearchUrlTool\"\n",
    "    description: str = \"Input argument or query, and it will give the search results of the urls related to that argument or query.\"\n",
    "\n",
    "    def _run(self, argument: str) -> str:\n",
    "        node_path = \"node\"\n",
    "        js_file_path = \"search.js\"\n",
    "\n",
    "        try:\n",
    "            # Pass the argument as a separate item in the list\n",
    "            result = subprocess.run([node_path, js_file_path, argument], check=True, capture_output=True, text=True)\n",
    "            output = result.stdout\n",
    "\n",
    "            # Assuming the JS script outputs the results\n",
    "            print(output)\n",
    "            return output\n",
    "        except subprocess.CalledProcessError as e:\n",
    "            print(f\"Error executing search.js: {e}\")\n",
    "            return \"An error occurred while executing the search\"\n",
    "\n",
    "tool = SearchUrlTool()\n",
    "query = \"Best travel websites\"\n",
    "result = tool._run(query)\n",
    "print(result)"
   ]
  }
 ],
 "metadata": {
  "kernelspec": {
   "display_name": "Python 3",
   "language": "python",
   "name": "python3"
  },
  "language_info": {
   "codemirror_mode": {
    "name": "ipython",
    "version": 3
   },
   "file_extension": ".py",
   "mimetype": "text/x-python",
   "name": "python",
   "nbconvert_exporter": "python",
   "pygments_lexer": "ipython3",
   "version": "3.10.12"
  }
 },
 "nbformat": 4,
 "nbformat_minor": 2
}
